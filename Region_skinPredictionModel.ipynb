{
  "nbformat": 4,
  "nbformat_minor": 0,
  "metadata": {
    "colab": {
      "provenance": [],
      "gpuType": "T4",
      "authorship_tag": "ABX9TyPYVLw2LrSV1loWK5LH2UcK",
      "include_colab_link": true
    },
    "kernelspec": {
      "name": "python3",
      "display_name": "Python 3"
    },
    "language_info": {
      "name": "python"
    },
    "accelerator": "GPU"
  },
  "cells": [
    {
      "cell_type": "markdown",
      "metadata": {
        "id": "view-in-github",
        "colab_type": "text"
      },
      "source": [
        "<a href=\"https://colab.research.google.com/github/IT21162428/Research---Digital-Companion/blob/IT21338984_Imesh/Region_skinPredictionModel.ipynb\" target=\"_parent\"><img src=\"https://colab.research.google.com/assets/colab-badge.svg\" alt=\"Open In Colab\"/></a>"
      ]
    },
    {
      "cell_type": "code",
      "source": [
        "# Install TensorFlow and other dependencies\n",
        "!pip install tensorflow matplotlib numpy"
      ],
      "metadata": {
        "colab": {
          "base_uri": "https://localhost:8080/"
        },
        "collapsed": true,
        "id": "vvXNaRIRXTVt",
        "outputId": "303b6284-0066-4df6-b131-a1872d554051"
      },
      "execution_count": null,
      "outputs": [
        {
          "output_type": "stream",
          "name": "stdout",
          "text": [
            "Requirement already satisfied: tensorflow in /usr/local/lib/python3.10/dist-packages (2.17.1)\n",
            "Requirement already satisfied: matplotlib in /usr/local/lib/python3.10/dist-packages (3.8.0)\n",
            "Requirement already satisfied: numpy in /usr/local/lib/python3.10/dist-packages (1.26.4)\n",
            "Requirement already satisfied: absl-py>=1.0.0 in /usr/local/lib/python3.10/dist-packages (from tensorflow) (1.4.0)\n",
            "Requirement already satisfied: astunparse>=1.6.0 in /usr/local/lib/python3.10/dist-packages (from tensorflow) (1.6.3)\n",
            "Requirement already satisfied: flatbuffers>=24.3.25 in /usr/local/lib/python3.10/dist-packages (from tensorflow) (24.3.25)\n",
            "Requirement already satisfied: gast!=0.5.0,!=0.5.1,!=0.5.2,>=0.2.1 in /usr/local/lib/python3.10/dist-packages (from tensorflow) (0.6.0)\n",
            "Requirement already satisfied: google-pasta>=0.1.1 in /usr/local/lib/python3.10/dist-packages (from tensorflow) (0.2.0)\n",
            "Requirement already satisfied: h5py>=3.10.0 in /usr/local/lib/python3.10/dist-packages (from tensorflow) (3.12.1)\n",
            "Requirement already satisfied: libclang>=13.0.0 in /usr/local/lib/python3.10/dist-packages (from tensorflow) (18.1.1)\n",
            "Requirement already satisfied: ml-dtypes<0.5.0,>=0.3.1 in /usr/local/lib/python3.10/dist-packages (from tensorflow) (0.4.1)\n",
            "Requirement already satisfied: opt-einsum>=2.3.2 in /usr/local/lib/python3.10/dist-packages (from tensorflow) (3.4.0)\n",
            "Requirement already satisfied: packaging in /usr/local/lib/python3.10/dist-packages (from tensorflow) (24.2)\n",
            "Requirement already satisfied: protobuf!=4.21.0,!=4.21.1,!=4.21.2,!=4.21.3,!=4.21.4,!=4.21.5,<5.0.0dev,>=3.20.3 in /usr/local/lib/python3.10/dist-packages (from tensorflow) (4.25.5)\n",
            "Requirement already satisfied: requests<3,>=2.21.0 in /usr/local/lib/python3.10/dist-packages (from tensorflow) (2.32.3)\n",
            "Requirement already satisfied: setuptools in /usr/local/lib/python3.10/dist-packages (from tensorflow) (75.1.0)\n",
            "Requirement already satisfied: six>=1.12.0 in /usr/local/lib/python3.10/dist-packages (from tensorflow) (1.16.0)\n",
            "Requirement already satisfied: termcolor>=1.1.0 in /usr/local/lib/python3.10/dist-packages (from tensorflow) (2.5.0)\n",
            "Requirement already satisfied: typing-extensions>=3.6.6 in /usr/local/lib/python3.10/dist-packages (from tensorflow) (4.12.2)\n",
            "Requirement already satisfied: wrapt>=1.11.0 in /usr/local/lib/python3.10/dist-packages (from tensorflow) (1.16.0)\n",
            "Requirement already satisfied: grpcio<2.0,>=1.24.3 in /usr/local/lib/python3.10/dist-packages (from tensorflow) (1.68.0)\n",
            "Requirement already satisfied: tensorboard<2.18,>=2.17 in /usr/local/lib/python3.10/dist-packages (from tensorflow) (2.17.1)\n",
            "Requirement already satisfied: keras>=3.2.0 in /usr/local/lib/python3.10/dist-packages (from tensorflow) (3.5.0)\n",
            "Requirement already satisfied: tensorflow-io-gcs-filesystem>=0.23.1 in /usr/local/lib/python3.10/dist-packages (from tensorflow) (0.37.1)\n",
            "Requirement already satisfied: contourpy>=1.0.1 in /usr/local/lib/python3.10/dist-packages (from matplotlib) (1.3.1)\n",
            "Requirement already satisfied: cycler>=0.10 in /usr/local/lib/python3.10/dist-packages (from matplotlib) (0.12.1)\n",
            "Requirement already satisfied: fonttools>=4.22.0 in /usr/local/lib/python3.10/dist-packages (from matplotlib) (4.55.0)\n",
            "Requirement already satisfied: kiwisolver>=1.0.1 in /usr/local/lib/python3.10/dist-packages (from matplotlib) (1.4.7)\n",
            "Requirement already satisfied: pillow>=6.2.0 in /usr/local/lib/python3.10/dist-packages (from matplotlib) (11.0.0)\n",
            "Requirement already satisfied: pyparsing>=2.3.1 in /usr/local/lib/python3.10/dist-packages (from matplotlib) (3.2.0)\n",
            "Requirement already satisfied: python-dateutil>=2.7 in /usr/local/lib/python3.10/dist-packages (from matplotlib) (2.8.2)\n",
            "Requirement already satisfied: wheel<1.0,>=0.23.0 in /usr/local/lib/python3.10/dist-packages (from astunparse>=1.6.0->tensorflow) (0.45.0)\n",
            "Requirement already satisfied: rich in /usr/local/lib/python3.10/dist-packages (from keras>=3.2.0->tensorflow) (13.9.4)\n",
            "Requirement already satisfied: namex in /usr/local/lib/python3.10/dist-packages (from keras>=3.2.0->tensorflow) (0.0.8)\n",
            "Requirement already satisfied: optree in /usr/local/lib/python3.10/dist-packages (from keras>=3.2.0->tensorflow) (0.13.1)\n",
            "Requirement already satisfied: charset-normalizer<4,>=2 in /usr/local/lib/python3.10/dist-packages (from requests<3,>=2.21.0->tensorflow) (3.4.0)\n",
            "Requirement already satisfied: idna<4,>=2.5 in /usr/local/lib/python3.10/dist-packages (from requests<3,>=2.21.0->tensorflow) (3.10)\n",
            "Requirement already satisfied: urllib3<3,>=1.21.1 in /usr/local/lib/python3.10/dist-packages (from requests<3,>=2.21.0->tensorflow) (2.2.3)\n",
            "Requirement already satisfied: certifi>=2017.4.17 in /usr/local/lib/python3.10/dist-packages (from requests<3,>=2.21.0->tensorflow) (2024.8.30)\n",
            "Requirement already satisfied: markdown>=2.6.8 in /usr/local/lib/python3.10/dist-packages (from tensorboard<2.18,>=2.17->tensorflow) (3.7)\n",
            "Requirement already satisfied: tensorboard-data-server<0.8.0,>=0.7.0 in /usr/local/lib/python3.10/dist-packages (from tensorboard<2.18,>=2.17->tensorflow) (0.7.2)\n",
            "Requirement already satisfied: werkzeug>=1.0.1 in /usr/local/lib/python3.10/dist-packages (from tensorboard<2.18,>=2.17->tensorflow) (3.1.3)\n",
            "Requirement already satisfied: MarkupSafe>=2.1.1 in /usr/local/lib/python3.10/dist-packages (from werkzeug>=1.0.1->tensorboard<2.18,>=2.17->tensorflow) (3.0.2)\n",
            "Requirement already satisfied: markdown-it-py>=2.2.0 in /usr/local/lib/python3.10/dist-packages (from rich->keras>=3.2.0->tensorflow) (3.0.0)\n",
            "Requirement already satisfied: pygments<3.0.0,>=2.13.0 in /usr/local/lib/python3.10/dist-packages (from rich->keras>=3.2.0->tensorflow) (2.18.0)\n",
            "Requirement already satisfied: mdurl~=0.1 in /usr/local/lib/python3.10/dist-packages (from markdown-it-py>=2.2.0->rich->keras>=3.2.0->tensorflow) (0.1.2)\n"
          ]
        }
      ]
    },
    {
      "cell_type": "code",
      "execution_count": null,
      "metadata": {
        "colab": {
          "base_uri": "https://localhost:8080/"
        },
        "id": "DFilVw2LcDMj",
        "outputId": "995d4b1e-df10-467e-8fdd-1e5b4ff336bc"
      },
      "outputs": [
        {
          "output_type": "stream",
          "name": "stdout",
          "text": [
            "Mounted at /content/drive\n"
          ]
        }
      ],
      "source": [
        "# Mount Google Drive\n",
        "from google.colab import drive\n",
        "drive.mount('/content/drive')"
      ]
    },
    {
      "cell_type": "code",
      "source": [
        "import tensorflow as tf\n",
        "import numpy as np\n",
        "import pandas as pd\n",
        "import matplotlib.pyplot as plt\n",
        "import os\n"
      ],
      "metadata": {
        "id": "K2yrJuDrcxeu"
      },
      "execution_count": 59,
      "outputs": []
    },
    {
      "cell_type": "code",
      "source": [
        "gpus = tf.config.experimental.list_physical_devices('GPU')\n",
        "for gpu in gpus:\n",
        "    tf.config.experimental.set_memory_growth(gpu, True)"
      ],
      "metadata": {
        "id": "X2HHlLK6tY2x"
      },
      "execution_count": 60,
      "outputs": []
    },
    {
      "cell_type": "code",
      "source": [
        "data_dir = '/content/drive/MyDrive/RESEARCH/dataset/RegionalDataset/MultiRegionFacialDataset/train'  # Replace with your dataset path"
      ],
      "metadata": {
        "id": "62HQtpdtc5XV"
      },
      "execution_count": 18,
      "outputs": []
    },
    {
      "cell_type": "code",
      "source": [
        "from tensorflow.keras.utils import image_dataset_from_directory\n",
        "from tensorflow.keras.utils import to_categorical  # Import to_categorical\n",
        "\n",
        "# Load dataset\n",
        "data = image_dataset_from_directory(data_dir,\n",
        "                                    image_size=(128, 128),  # Resize images\n",
        "                                    label_mode='categorical')  # For multi-class classification\n",
        "\n",
        "\n",
        "# Normalize RGB values and convert labels to one-hot encoding\n",
        "data = data.map(lambda x, y: (x / 255.0, y)) # Convert labels using to_categorical"
      ],
      "metadata": {
        "colab": {
          "base_uri": "https://localhost:8080/"
        },
        "id": "EfRPx2sSdLgs",
        "outputId": "b22d6589-3133-4f7b-a968-768e65374bf3"
      },
      "execution_count": 33,
      "outputs": [
        {
          "output_type": "stream",
          "name": "stdout",
          "text": [
            "Found 18851 files belonging to 5 classes.\n"
          ]
        }
      ]
    },
    {
      "cell_type": "code",
      "source": [
        "len(data)"
      ],
      "metadata": {
        "colab": {
          "base_uri": "https://localhost:8080/"
        },
        "id": "7RS57P67ftAX",
        "outputId": "8a263296-1ba7-4380-fa62-20e497d590b9"
      },
      "execution_count": 34,
      "outputs": [
        {
          "output_type": "execute_result",
          "data": {
            "text/plain": [
              "590"
            ]
          },
          "metadata": {},
          "execution_count": 34
        }
      ]
    },
    {
      "cell_type": "code",
      "source": [
        "train_size = int(len(data) * 0.7)\n",
        "val_size = int(len(data) * 0.2)\n",
        "test_size = int(len(data) * 0.1)\n",
        "\n",
        "train_data = data.take(train_size)\n",
        "val_data = data.skip(train_size).take(val_size)\n",
        "test_data = data.skip(train_size + val_size).take(test_size)\n"
      ],
      "metadata": {
        "id": "mmB0pM-gYxAX"
      },
      "execution_count": 35,
      "outputs": []
    },
    {
      "cell_type": "code",
      "source": [
        "from tensorflow.keras.models import Sequential\n",
        "from tensorflow.keras.layers import Conv2D, MaxPooling2D, Flatten, Dense, Dropout\n",
        "\n",
        "model = Sequential([\n",
        "    Conv2D(32, (3, 3), activation='relu', input_shape=(128, 128, 3)),\n",
        "    MaxPooling2D(),\n",
        "    Conv2D(64, (3, 3), activation='relu'),\n",
        "    MaxPooling2D(),\n",
        "    Conv2D(128, (3, 3), activation='relu'),\n",
        "    MaxPooling2D(),\n",
        "    Flatten(),\n",
        "    Dense(128, activation='relu'),\n",
        "    Dropout(0.5),\n",
        "    Dense(5, activation='softmax')  # 5 output classes for skin types\n",
        "])\n"
      ],
      "metadata": {
        "colab": {
          "base_uri": "https://localhost:8080/"
        },
        "id": "8lm3uZoRY4yy",
        "outputId": "228ffe3a-0e31-4198-d999-dd7881430249"
      },
      "execution_count": 36,
      "outputs": [
        {
          "output_type": "stream",
          "name": "stderr",
          "text": [
            "/usr/local/lib/python3.10/dist-packages/keras/src/layers/convolutional/base_conv.py:107: UserWarning: Do not pass an `input_shape`/`input_dim` argument to a layer. When using Sequential models, prefer using an `Input(shape)` object as the first layer in the model instead.\n",
            "  super().__init__(activity_regularizer=activity_regularizer, **kwargs)\n"
          ]
        }
      ]
    },
    {
      "cell_type": "code",
      "source": [
        "from sklearn.preprocessing import LabelEncoder\n",
        "from tensorflow.keras.utils import to_categorical\n",
        "import numpy as np # Import numpy\n",
        "\n",
        "# Convert the EagerTensor to a NumPy array\n",
        "labels = labels.numpy()\n",
        "\n",
        "labels = labels.reshape(-1) # This converts the 2D array into a 1D array\n",
        "\n",
        "encoder = LabelEncoder()\n",
        "encoded_labels = encoder.fit_transform(labels)  # Assign integers to each region\n",
        "one_hot_labels = to_categorical(encoded_labels, num_classes=5)"
      ],
      "metadata": {
        "id": "V38b4JubiRhw"
      },
      "execution_count": 58,
      "outputs": []
    },
    {
      "cell_type": "code",
      "source": [
        "model.compile(optimizer='adam',\n",
        "              loss='categorical_crossentropy',\n",
        "              metrics=['accuracy'])\n",
        "\n",
        "model.summary()\n"
      ],
      "metadata": {
        "colab": {
          "base_uri": "https://localhost:8080/",
          "height": 449
        },
        "collapsed": true,
        "id": "l2zMccm6Y83I",
        "outputId": "01fd0d84-fd34-4015-af75-c4f49ad52c9e"
      },
      "execution_count": 37,
      "outputs": [
        {
          "output_type": "display_data",
          "data": {
            "text/plain": [
              "\u001b[1mModel: \"sequential_2\"\u001b[0m\n"
            ],
            "text/html": [
              "<pre style=\"white-space:pre;overflow-x:auto;line-height:normal;font-family:Menlo,'DejaVu Sans Mono',consolas,'Courier New',monospace\"><span style=\"font-weight: bold\">Model: \"sequential_2\"</span>\n",
              "</pre>\n"
            ]
          },
          "metadata": {}
        },
        {
          "output_type": "display_data",
          "data": {
            "text/plain": [
              "┏━━━━━━━━━━━━━━━━━━━━━━━━━━━━━━━━━━━━━━┳━━━━━━━━━━━━━━━━━━━━━━━━━━━━━┳━━━━━━━━━━━━━━━━━┓\n",
              "┃\u001b[1m \u001b[0m\u001b[1mLayer (type)                        \u001b[0m\u001b[1m \u001b[0m┃\u001b[1m \u001b[0m\u001b[1mOutput Shape               \u001b[0m\u001b[1m \u001b[0m┃\u001b[1m \u001b[0m\u001b[1m        Param #\u001b[0m\u001b[1m \u001b[0m┃\n",
              "┡━━━━━━━━━━━━━━━━━━━━━━━━━━━━━━━━━━━━━━╇━━━━━━━━━━━━━━━━━━━━━━━━━━━━━╇━━━━━━━━━━━━━━━━━┩\n",
              "│ conv2d_6 (\u001b[38;5;33mConv2D\u001b[0m)                    │ (\u001b[38;5;45mNone\u001b[0m, \u001b[38;5;34m126\u001b[0m, \u001b[38;5;34m126\u001b[0m, \u001b[38;5;34m32\u001b[0m)        │             \u001b[38;5;34m896\u001b[0m │\n",
              "├──────────────────────────────────────┼─────────────────────────────┼─────────────────┤\n",
              "│ max_pooling2d_6 (\u001b[38;5;33mMaxPooling2D\u001b[0m)       │ (\u001b[38;5;45mNone\u001b[0m, \u001b[38;5;34m63\u001b[0m, \u001b[38;5;34m63\u001b[0m, \u001b[38;5;34m32\u001b[0m)          │               \u001b[38;5;34m0\u001b[0m │\n",
              "├──────────────────────────────────────┼─────────────────────────────┼─────────────────┤\n",
              "│ conv2d_7 (\u001b[38;5;33mConv2D\u001b[0m)                    │ (\u001b[38;5;45mNone\u001b[0m, \u001b[38;5;34m61\u001b[0m, \u001b[38;5;34m61\u001b[0m, \u001b[38;5;34m64\u001b[0m)          │          \u001b[38;5;34m18,496\u001b[0m │\n",
              "├──────────────────────────────────────┼─────────────────────────────┼─────────────────┤\n",
              "│ max_pooling2d_7 (\u001b[38;5;33mMaxPooling2D\u001b[0m)       │ (\u001b[38;5;45mNone\u001b[0m, \u001b[38;5;34m30\u001b[0m, \u001b[38;5;34m30\u001b[0m, \u001b[38;5;34m64\u001b[0m)          │               \u001b[38;5;34m0\u001b[0m │\n",
              "├──────────────────────────────────────┼─────────────────────────────┼─────────────────┤\n",
              "│ conv2d_8 (\u001b[38;5;33mConv2D\u001b[0m)                    │ (\u001b[38;5;45mNone\u001b[0m, \u001b[38;5;34m28\u001b[0m, \u001b[38;5;34m28\u001b[0m, \u001b[38;5;34m128\u001b[0m)         │          \u001b[38;5;34m73,856\u001b[0m │\n",
              "├──────────────────────────────────────┼─────────────────────────────┼─────────────────┤\n",
              "│ max_pooling2d_8 (\u001b[38;5;33mMaxPooling2D\u001b[0m)       │ (\u001b[38;5;45mNone\u001b[0m, \u001b[38;5;34m14\u001b[0m, \u001b[38;5;34m14\u001b[0m, \u001b[38;5;34m128\u001b[0m)         │               \u001b[38;5;34m0\u001b[0m │\n",
              "├──────────────────────────────────────┼─────────────────────────────┼─────────────────┤\n",
              "│ flatten_2 (\u001b[38;5;33mFlatten\u001b[0m)                  │ (\u001b[38;5;45mNone\u001b[0m, \u001b[38;5;34m25088\u001b[0m)               │               \u001b[38;5;34m0\u001b[0m │\n",
              "├──────────────────────────────────────┼─────────────────────────────┼─────────────────┤\n",
              "│ dense_4 (\u001b[38;5;33mDense\u001b[0m)                      │ (\u001b[38;5;45mNone\u001b[0m, \u001b[38;5;34m128\u001b[0m)                 │       \u001b[38;5;34m3,211,392\u001b[0m │\n",
              "├──────────────────────────────────────┼─────────────────────────────┼─────────────────┤\n",
              "│ dropout_2 (\u001b[38;5;33mDropout\u001b[0m)                  │ (\u001b[38;5;45mNone\u001b[0m, \u001b[38;5;34m128\u001b[0m)                 │               \u001b[38;5;34m0\u001b[0m │\n",
              "├──────────────────────────────────────┼─────────────────────────────┼─────────────────┤\n",
              "│ dense_5 (\u001b[38;5;33mDense\u001b[0m)                      │ (\u001b[38;5;45mNone\u001b[0m, \u001b[38;5;34m5\u001b[0m)                   │             \u001b[38;5;34m645\u001b[0m │\n",
              "└──────────────────────────────────────┴─────────────────────────────┴─────────────────┘\n"
            ],
            "text/html": [
              "<pre style=\"white-space:pre;overflow-x:auto;line-height:normal;font-family:Menlo,'DejaVu Sans Mono',consolas,'Courier New',monospace\">┏━━━━━━━━━━━━━━━━━━━━━━━━━━━━━━━━━━━━━━┳━━━━━━━━━━━━━━━━━━━━━━━━━━━━━┳━━━━━━━━━━━━━━━━━┓\n",
              "┃<span style=\"font-weight: bold\"> Layer (type)                         </span>┃<span style=\"font-weight: bold\"> Output Shape                </span>┃<span style=\"font-weight: bold\">         Param # </span>┃\n",
              "┡━━━━━━━━━━━━━━━━━━━━━━━━━━━━━━━━━━━━━━╇━━━━━━━━━━━━━━━━━━━━━━━━━━━━━╇━━━━━━━━━━━━━━━━━┩\n",
              "│ conv2d_6 (<span style=\"color: #0087ff; text-decoration-color: #0087ff\">Conv2D</span>)                    │ (<span style=\"color: #00d7ff; text-decoration-color: #00d7ff\">None</span>, <span style=\"color: #00af00; text-decoration-color: #00af00\">126</span>, <span style=\"color: #00af00; text-decoration-color: #00af00\">126</span>, <span style=\"color: #00af00; text-decoration-color: #00af00\">32</span>)        │             <span style=\"color: #00af00; text-decoration-color: #00af00\">896</span> │\n",
              "├──────────────────────────────────────┼─────────────────────────────┼─────────────────┤\n",
              "│ max_pooling2d_6 (<span style=\"color: #0087ff; text-decoration-color: #0087ff\">MaxPooling2D</span>)       │ (<span style=\"color: #00d7ff; text-decoration-color: #00d7ff\">None</span>, <span style=\"color: #00af00; text-decoration-color: #00af00\">63</span>, <span style=\"color: #00af00; text-decoration-color: #00af00\">63</span>, <span style=\"color: #00af00; text-decoration-color: #00af00\">32</span>)          │               <span style=\"color: #00af00; text-decoration-color: #00af00\">0</span> │\n",
              "├──────────────────────────────────────┼─────────────────────────────┼─────────────────┤\n",
              "│ conv2d_7 (<span style=\"color: #0087ff; text-decoration-color: #0087ff\">Conv2D</span>)                    │ (<span style=\"color: #00d7ff; text-decoration-color: #00d7ff\">None</span>, <span style=\"color: #00af00; text-decoration-color: #00af00\">61</span>, <span style=\"color: #00af00; text-decoration-color: #00af00\">61</span>, <span style=\"color: #00af00; text-decoration-color: #00af00\">64</span>)          │          <span style=\"color: #00af00; text-decoration-color: #00af00\">18,496</span> │\n",
              "├──────────────────────────────────────┼─────────────────────────────┼─────────────────┤\n",
              "│ max_pooling2d_7 (<span style=\"color: #0087ff; text-decoration-color: #0087ff\">MaxPooling2D</span>)       │ (<span style=\"color: #00d7ff; text-decoration-color: #00d7ff\">None</span>, <span style=\"color: #00af00; text-decoration-color: #00af00\">30</span>, <span style=\"color: #00af00; text-decoration-color: #00af00\">30</span>, <span style=\"color: #00af00; text-decoration-color: #00af00\">64</span>)          │               <span style=\"color: #00af00; text-decoration-color: #00af00\">0</span> │\n",
              "├──────────────────────────────────────┼─────────────────────────────┼─────────────────┤\n",
              "│ conv2d_8 (<span style=\"color: #0087ff; text-decoration-color: #0087ff\">Conv2D</span>)                    │ (<span style=\"color: #00d7ff; text-decoration-color: #00d7ff\">None</span>, <span style=\"color: #00af00; text-decoration-color: #00af00\">28</span>, <span style=\"color: #00af00; text-decoration-color: #00af00\">28</span>, <span style=\"color: #00af00; text-decoration-color: #00af00\">128</span>)         │          <span style=\"color: #00af00; text-decoration-color: #00af00\">73,856</span> │\n",
              "├──────────────────────────────────────┼─────────────────────────────┼─────────────────┤\n",
              "│ max_pooling2d_8 (<span style=\"color: #0087ff; text-decoration-color: #0087ff\">MaxPooling2D</span>)       │ (<span style=\"color: #00d7ff; text-decoration-color: #00d7ff\">None</span>, <span style=\"color: #00af00; text-decoration-color: #00af00\">14</span>, <span style=\"color: #00af00; text-decoration-color: #00af00\">14</span>, <span style=\"color: #00af00; text-decoration-color: #00af00\">128</span>)         │               <span style=\"color: #00af00; text-decoration-color: #00af00\">0</span> │\n",
              "├──────────────────────────────────────┼─────────────────────────────┼─────────────────┤\n",
              "│ flatten_2 (<span style=\"color: #0087ff; text-decoration-color: #0087ff\">Flatten</span>)                  │ (<span style=\"color: #00d7ff; text-decoration-color: #00d7ff\">None</span>, <span style=\"color: #00af00; text-decoration-color: #00af00\">25088</span>)               │               <span style=\"color: #00af00; text-decoration-color: #00af00\">0</span> │\n",
              "├──────────────────────────────────────┼─────────────────────────────┼─────────────────┤\n",
              "│ dense_4 (<span style=\"color: #0087ff; text-decoration-color: #0087ff\">Dense</span>)                      │ (<span style=\"color: #00d7ff; text-decoration-color: #00d7ff\">None</span>, <span style=\"color: #00af00; text-decoration-color: #00af00\">128</span>)                 │       <span style=\"color: #00af00; text-decoration-color: #00af00\">3,211,392</span> │\n",
              "├──────────────────────────────────────┼─────────────────────────────┼─────────────────┤\n",
              "│ dropout_2 (<span style=\"color: #0087ff; text-decoration-color: #0087ff\">Dropout</span>)                  │ (<span style=\"color: #00d7ff; text-decoration-color: #00d7ff\">None</span>, <span style=\"color: #00af00; text-decoration-color: #00af00\">128</span>)                 │               <span style=\"color: #00af00; text-decoration-color: #00af00\">0</span> │\n",
              "├──────────────────────────────────────┼─────────────────────────────┼─────────────────┤\n",
              "│ dense_5 (<span style=\"color: #0087ff; text-decoration-color: #0087ff\">Dense</span>)                      │ (<span style=\"color: #00d7ff; text-decoration-color: #00d7ff\">None</span>, <span style=\"color: #00af00; text-decoration-color: #00af00\">5</span>)                   │             <span style=\"color: #00af00; text-decoration-color: #00af00\">645</span> │\n",
              "└──────────────────────────────────────┴─────────────────────────────┴─────────────────┘\n",
              "</pre>\n"
            ]
          },
          "metadata": {}
        },
        {
          "output_type": "display_data",
          "data": {
            "text/plain": [
              "\u001b[1m Total params: \u001b[0m\u001b[38;5;34m3,305,285\u001b[0m (12.61 MB)\n"
            ],
            "text/html": [
              "<pre style=\"white-space:pre;overflow-x:auto;line-height:normal;font-family:Menlo,'DejaVu Sans Mono',consolas,'Courier New',monospace\"><span style=\"font-weight: bold\"> Total params: </span><span style=\"color: #00af00; text-decoration-color: #00af00\">3,305,285</span> (12.61 MB)\n",
              "</pre>\n"
            ]
          },
          "metadata": {}
        },
        {
          "output_type": "display_data",
          "data": {
            "text/plain": [
              "\u001b[1m Trainable params: \u001b[0m\u001b[38;5;34m3,305,285\u001b[0m (12.61 MB)\n"
            ],
            "text/html": [
              "<pre style=\"white-space:pre;overflow-x:auto;line-height:normal;font-family:Menlo,'DejaVu Sans Mono',consolas,'Courier New',monospace\"><span style=\"font-weight: bold\"> Trainable params: </span><span style=\"color: #00af00; text-decoration-color: #00af00\">3,305,285</span> (12.61 MB)\n",
              "</pre>\n"
            ]
          },
          "metadata": {}
        },
        {
          "output_type": "display_data",
          "data": {
            "text/plain": [
              "\u001b[1m Non-trainable params: \u001b[0m\u001b[38;5;34m0\u001b[0m (0.00 B)\n"
            ],
            "text/html": [
              "<pre style=\"white-space:pre;overflow-x:auto;line-height:normal;font-family:Menlo,'DejaVu Sans Mono',consolas,'Courier New',monospace\"><span style=\"font-weight: bold\"> Non-trainable params: </span><span style=\"color: #00af00; text-decoration-color: #00af00\">0</span> (0.00 B)\n",
              "</pre>\n"
            ]
          },
          "metadata": {}
        }
      ]
    },
    {
      "cell_type": "code",
      "source": [
        "logdir= '/content/drive/MyDrive/RESEARCH/logs/region'"
      ],
      "metadata": {
        "id": "UjZaPBITgf0r"
      },
      "execution_count": 38,
      "outputs": []
    },
    {
      "cell_type": "code",
      "source": [
        "tensorboard_callback = tf.keras.callbacks.TensorBoard(log_dir=logdir)"
      ],
      "metadata": {
        "id": "T76ojssQgkD1"
      },
      "execution_count": 39,
      "outputs": []
    },
    {
      "cell_type": "code",
      "source": [
        "element = next(iter(train_data))  # Get the first element of the dataset using an iterator\n",
        "element[0].shape"
      ],
      "metadata": {
        "colab": {
          "base_uri": "https://localhost:8080/"
        },
        "id": "-oKa6wfTg7xO",
        "outputId": "ee585150-070c-472a-ab2c-8a46e73001a3"
      },
      "execution_count": 40,
      "outputs": [
        {
          "output_type": "execute_result",
          "data": {
            "text/plain": [
              "TensorShape([32, 128, 128, 3])"
            ]
          },
          "metadata": {},
          "execution_count": 40
        }
      ]
    },
    {
      "cell_type": "code",
      "source": [
        "element[0]"
      ],
      "metadata": {
        "colab": {
          "base_uri": "https://localhost:8080/"
        },
        "collapsed": true,
        "id": "074AZZi8neTx",
        "outputId": "73dbaaa4-0f27-407e-d324-1e14b58f331c"
      },
      "execution_count": 41,
      "outputs": [
        {
          "output_type": "execute_result",
          "data": {
            "text/plain": [
              "<tf.Tensor: shape=(32, 128, 128, 3), dtype=float32, numpy=\n",
              "array([[[[0.02352941, 0.02352941, 0.02352941],\n",
              "         [0.02401961, 0.02401961, 0.02401961],\n",
              "         [0.02696078, 0.02696078, 0.02696078],\n",
              "         ...,\n",
              "         [0.81911767, 0.81911767, 0.81911767],\n",
              "         [0.8161765 , 0.8161765 , 0.8161765 ],\n",
              "         [0.8156863 , 0.8156863 , 0.8156863 ]],\n",
              "\n",
              "        [[0.02818627, 0.02818627, 0.02818627],\n",
              "         [0.02870711, 0.02870711, 0.02870711],\n",
              "         [0.03183211, 0.03183211, 0.03183211],\n",
              "         ...,\n",
              "         [0.8192402 , 0.8192402 , 0.8192402 ],\n",
              "         [0.8170343 , 0.8170343 , 0.8170343 ],\n",
              "         [0.81666666, 0.81666666, 0.81666666]],\n",
              "\n",
              "        [[0.05612745, 0.05612745, 0.05612745],\n",
              "         [0.05683211, 0.05683211, 0.05683211],\n",
              "         [0.06106005, 0.06106005, 0.06106005],\n",
              "         ...,\n",
              "         [0.8199755 , 0.8199755 , 0.8199755 ],\n",
              "         [0.82218134, 0.82218134, 0.82218134],\n",
              "         [0.82254905, 0.82254905, 0.82254905]],\n",
              "\n",
              "        ...,\n",
              "\n",
              "        [[0.03137255, 0.03137255, 0.03137255],\n",
              "         [0.03137255, 0.03137255, 0.03137255],\n",
              "         [0.03137255, 0.03137255, 0.03137255],\n",
              "         ...,\n",
              "         [0.6306372 , 0.6306372 , 0.6306372 ],\n",
              "         [0.6379902 , 0.6379902 , 0.6379902 ],\n",
              "         [0.6392157 , 0.6392157 , 0.6392157 ]],\n",
              "\n",
              "        [[0.03137255, 0.03137255, 0.03137255],\n",
              "         [0.03137255, 0.03137255, 0.03137255],\n",
              "         [0.03137255, 0.03137255, 0.03137255],\n",
              "         ...,\n",
              "         [0.6306372 , 0.6306372 , 0.6306372 ],\n",
              "         [0.6379902 , 0.6379902 , 0.6379902 ],\n",
              "         [0.6392157 , 0.6392157 , 0.6392157 ]],\n",
              "\n",
              "        [[0.03137255, 0.03137255, 0.03137255],\n",
              "         [0.03137255, 0.03137255, 0.03137255],\n",
              "         [0.03137255, 0.03137255, 0.03137255],\n",
              "         ...,\n",
              "         [0.6306372 , 0.6306372 , 0.6306372 ],\n",
              "         [0.6379902 , 0.6379902 , 0.6379902 ],\n",
              "         [0.6392157 , 0.6392157 , 0.6392157 ]]],\n",
              "\n",
              "\n",
              "       [[[0.8862745 , 0.8862745 , 0.8862745 ],\n",
              "         [0.88529414, 0.88529414, 0.88529414],\n",
              "         [0.87941176, 0.87941176, 0.87941176],\n",
              "         ...,\n",
              "         [0.78186274, 0.78186274, 0.78186274],\n",
              "         [0.76715684, 0.76715684, 0.76715684],\n",
              "         [0.7647059 , 0.7647059 , 0.7647059 ]],\n",
              "\n",
              "        [[0.88480395, 0.88480395, 0.88480395],\n",
              "         [0.8839001 , 0.8839001 , 0.8839001 ],\n",
              "         [0.87847733, 0.87847733, 0.87847733],\n",
              "         ...,\n",
              "         [0.7840533 , 0.7840533 , 0.7840533 ],\n",
              "         [0.7699908 , 0.7699908 , 0.7699908 ],\n",
              "         [0.7676471 , 0.7676471 , 0.7676471 ]],\n",
              "\n",
              "        [[0.8759804 , 0.8759804 , 0.8759804 ],\n",
              "         [0.87553614, 0.87553614, 0.87553614],\n",
              "         [0.8728707 , 0.8728707 , 0.8728707 ],\n",
              "         ...,\n",
              "         [0.7971967 , 0.7971967 , 0.7971967 ],\n",
              "         [0.78699446, 0.78699446, 0.78699446],\n",
              "         [0.7852941 , 0.7852941 , 0.7852941 ]],\n",
              "\n",
              "        ...,\n",
              "\n",
              "        [[0.04485294, 0.04485294, 0.04485294],\n",
              "         [0.04523591, 0.04523591, 0.04523591],\n",
              "         [0.0475337 , 0.0475337 , 0.0475337 ],\n",
              "         ...,\n",
              "         [0.28022364, 0.28022364, 0.28022364],\n",
              "         [0.2828891 , 0.2828891 , 0.2828891 ],\n",
              "         [0.28333333, 0.28333333, 0.28333333]],\n",
              "\n",
              "        [[0.04338235, 0.04338235, 0.04338235],\n",
              "         [0.04385723, 0.04385723, 0.04385723],\n",
              "         [0.04670649, 0.04670649, 0.04670649],\n",
              "         ...,\n",
              "         [0.2828891 , 0.2828891 , 0.2828891 ],\n",
              "         [0.2883119 , 0.2883119 , 0.2883119 ],\n",
              "         [0.28921568, 0.28921568, 0.28921568]],\n",
              "\n",
              "        [[0.04313726, 0.04313726, 0.04313726],\n",
              "         [0.04362745, 0.04362745, 0.04362745],\n",
              "         [0.04656863, 0.04656863, 0.04656863],\n",
              "         ...,\n",
              "         [0.28333333, 0.28333333, 0.28333333],\n",
              "         [0.28921568, 0.28921568, 0.28921568],\n",
              "         [0.2901961 , 0.2901961 , 0.2901961 ]]],\n",
              "\n",
              "\n",
              "       [[[0.28235295, 0.28235295, 0.28235295],\n",
              "         [0.2860294 , 0.2860294 , 0.2860294 ],\n",
              "         [0.30808824, 0.30808824, 0.30808824],\n",
              "         ...,\n",
              "         [0.40269607, 0.40269607, 0.40269607],\n",
              "         [0.40710783, 0.40710783, 0.40710783],\n",
              "         [0.40784314, 0.40784314, 0.40784314]],\n",
              "\n",
              "        [[0.28382352, 0.28382352, 0.28382352],\n",
              "         [0.28743872, 0.28743872, 0.28743872],\n",
              "         [0.3091299 , 0.3091299 , 0.3091299 ],\n",
              "         ...,\n",
              "         [0.40269607, 0.40269607, 0.40269607],\n",
              "         [0.40710783, 0.40710783, 0.40710783],\n",
              "         [0.40784314, 0.40784314, 0.40784314]],\n",
              "\n",
              "        [[0.29264706, 0.29264706, 0.29264706],\n",
              "         [0.2958946 , 0.2958946 , 0.2958946 ],\n",
              "         [0.3153799 , 0.3153799 , 0.3153799 ],\n",
              "         ...,\n",
              "         [0.40269607, 0.40269607, 0.40269607],\n",
              "         [0.40710783, 0.40710783, 0.40710783],\n",
              "         [0.40784314, 0.40784314, 0.40784314]],\n",
              "\n",
              "        ...,\n",
              "\n",
              "        [[0.5301471 , 0.5301471 , 0.5301471 ],\n",
              "         [0.53129596, 0.53129596, 0.53129596],\n",
              "         [0.53818935, 0.53818935, 0.53818935],\n",
              "         ...,\n",
              "         [0.52867645, 0.52867645, 0.52867645],\n",
              "         [0.52867645, 0.52867645, 0.52867645],\n",
              "         [0.52867645, 0.52867645, 0.52867645]],\n",
              "\n",
              "        [[0.5227941 , 0.5227941 , 0.5227941 ],\n",
              "         [0.52421874, 0.52421874, 0.52421874],\n",
              "         [0.5327665 , 0.5327665 , 0.5327665 ],\n",
              "         ...,\n",
              "         [0.5360294 , 0.5360294 , 0.5360294 ],\n",
              "         [0.5360294 , 0.5360294 , 0.5360294 ],\n",
              "         [0.5360294 , 0.5360294 , 0.5360294 ]],\n",
              "\n",
              "        [[0.52156866, 0.52156866, 0.52156866],\n",
              "         [0.5230392 , 0.5230392 , 0.5230392 ],\n",
              "         [0.53186274, 0.53186274, 0.53186274],\n",
              "         ...,\n",
              "         [0.5372549 , 0.5372549 , 0.5372549 ],\n",
              "         [0.5372549 , 0.5372549 , 0.5372549 ],\n",
              "         [0.5372549 , 0.5372549 , 0.5372549 ]]],\n",
              "\n",
              "\n",
              "       ...,\n",
              "\n",
              "\n",
              "       [[[0.3882353 , 0.3882353 , 0.3882353 ],\n",
              "         [0.38897058, 0.38897058, 0.38897058],\n",
              "         [0.39338234, 0.39338234, 0.39338234],\n",
              "         ...,\n",
              "         [0.5534314 , 0.5534314 , 0.5534314 ],\n",
              "         [0.57990193, 0.57990193, 0.57990193],\n",
              "         [0.58431375, 0.58431375, 0.58431375]],\n",
              "\n",
              "        [[0.38921568, 0.38921568, 0.38921568],\n",
              "         [0.38988972, 0.38988972, 0.38988972],\n",
              "         [0.39393383, 0.39393383, 0.39393383],\n",
              "         ...,\n",
              "         [0.55349267, 0.55349267, 0.55349267],\n",
              "         [0.5788603 , 0.5788603 , 0.5788603 ],\n",
              "         [0.5830882 , 0.5830882 , 0.5830882 ]],\n",
              "\n",
              "        [[0.39509803, 0.39509803, 0.39509803],\n",
              "         [0.3954044 , 0.3954044 , 0.3954044 ],\n",
              "         [0.39724264, 0.39724264, 0.39724264],\n",
              "         ...,\n",
              "         [0.5538603 , 0.5538603 , 0.5538603 ],\n",
              "         [0.5726103 , 0.5726103 , 0.5726103 ],\n",
              "         [0.5757353 , 0.5757353 , 0.5757353 ]],\n",
              "\n",
              "        ...,\n",
              "\n",
              "        [[0.8622549 , 0.8622549 , 0.8622549 ],\n",
              "         [0.86168814, 0.86168814, 0.86168814],\n",
              "         [0.8582874 , 0.8582874 , 0.8582874 ],\n",
              "         ...,\n",
              "         [0.45393687, 0.45393687, 0.45393687],\n",
              "         [0.4547641 , 0.4547641 , 0.4547641 ],\n",
              "         [0.45490196, 0.45490196, 0.45490196]],\n",
              "\n",
              "        [[0.8593137 , 0.8593137 , 0.8593137 ],\n",
              "         [0.8590227 , 0.8590227 , 0.8590227 ],\n",
              "         [0.8572763 , 0.8572763 , 0.8572763 ],\n",
              "         ...,\n",
              "         [0.4532935 , 0.4532935 , 0.4532935 ],\n",
              "         [0.4546722 , 0.4546722 , 0.4546722 ],\n",
              "         [0.45490196, 0.45490196, 0.45490196]],\n",
              "\n",
              "        [[0.85882354, 0.85882354, 0.85882354],\n",
              "         [0.85857844, 0.85857844, 0.85857844],\n",
              "         [0.8571078 , 0.8571078 , 0.8571078 ],\n",
              "         ...,\n",
              "         [0.45318627, 0.45318627, 0.45318627],\n",
              "         [0.45465687, 0.45465687, 0.45465687],\n",
              "         [0.45490196, 0.45490196, 0.45490196]]],\n",
              "\n",
              "\n",
              "       [[[0.43137255, 0.43137255, 0.43137255],\n",
              "         [0.43529412, 0.43529412, 0.43529412],\n",
              "         [0.45882353, 0.45882353, 0.45882353],\n",
              "         ...,\n",
              "         [0.44534314, 0.44534314, 0.44534314],\n",
              "         [0.44681373, 0.44681373, 0.44681373],\n",
              "         [0.44705883, 0.44705883, 0.44705883]],\n",
              "\n",
              "        [[0.43259802, 0.43259802, 0.43259802],\n",
              "         [0.4365196 , 0.4365196 , 0.4365196 ],\n",
              "         [0.46004903, 0.46004903, 0.46004903],\n",
              "         ...,\n",
              "         [0.44471508, 0.44471508, 0.44471508],\n",
              "         [0.44609374, 0.44609374, 0.44609374],\n",
              "         [0.44632354, 0.44632354, 0.44632354]],\n",
              "\n",
              "        [[0.43995097, 0.43995097, 0.43995097],\n",
              "         [0.44387254, 0.44387254, 0.44387254],\n",
              "         [0.46740195, 0.46740195, 0.46740195],\n",
              "         ...,\n",
              "         [0.4409467 , 0.4409467 , 0.4409467 ],\n",
              "         [0.4417739 , 0.4417739 , 0.4417739 ],\n",
              "         [0.44191176, 0.44191176, 0.44191176]],\n",
              "\n",
              "        ...,\n",
              "\n",
              "        [[0.5865196 , 0.5865196 , 0.5865196 ],\n",
              "         [0.5870251 , 0.5870251 , 0.5870251 ],\n",
              "         [0.5900582 , 0.5900582 , 0.5900582 ],\n",
              "         ...,\n",
              "         [0.71936274, 0.71936274, 0.71936274],\n",
              "         [0.71936274, 0.71936274, 0.71936274],\n",
              "         [0.71936274, 0.71936274, 0.71936274]],\n",
              "\n",
              "        [[0.5879902 , 0.5879902 , 0.5879902 ],\n",
              "         [0.5878523 , 0.5878523 , 0.5878523 ],\n",
              "         [0.5870251 , 0.5870251 , 0.5870251 ],\n",
              "         ...,\n",
              "         [0.71789217, 0.71789217, 0.71789217],\n",
              "         [0.71789217, 0.71789217, 0.71789217],\n",
              "         [0.71789217, 0.71789217, 0.71789217]],\n",
              "\n",
              "        [[0.5882353 , 0.5882353 , 0.5882353 ],\n",
              "         [0.5879902 , 0.5879902 , 0.5879902 ],\n",
              "         [0.5865196 , 0.5865196 , 0.5865196 ],\n",
              "         ...,\n",
              "         [0.7176471 , 0.7176471 , 0.7176471 ],\n",
              "         [0.7176471 , 0.7176471 , 0.7176471 ],\n",
              "         [0.7176471 , 0.7176471 , 0.7176471 ]]],\n",
              "\n",
              "\n",
              "       [[[0.40392157, 0.40392157, 0.40392157],\n",
              "         [0.40367648, 0.40367648, 0.40367648],\n",
              "         [0.40220588, 0.40220588, 0.40220588],\n",
              "         ...,\n",
              "         [0.7823529 , 0.7823529 , 0.7823529 ],\n",
              "         [0.84117645, 0.84117645, 0.84117645],\n",
              "         [0.8509804 , 0.8509804 , 0.8509804 ]],\n",
              "\n",
              "        [[0.40465686, 0.40465686, 0.40465686],\n",
              "         [0.40441176, 0.40441176, 0.40441176],\n",
              "         [0.40294117, 0.40294117, 0.40294117],\n",
              "         ...,\n",
              "         [0.7808364 , 0.7808364 , 0.7808364 ],\n",
              "         [0.8386489 , 0.8386489 , 0.8386489 ],\n",
              "         [0.8482843 , 0.8482843 , 0.8482843 ]],\n",
              "\n",
              "        [[0.4090686 , 0.4090686 , 0.4090686 ],\n",
              "         [0.40882352, 0.40882352, 0.40882352],\n",
              "         [0.40735295, 0.40735295, 0.40735295],\n",
              "         ...,\n",
              "         [0.77173716, 0.77173716, 0.77173716],\n",
              "         [0.82348347, 0.82348347, 0.82348347],\n",
              "         [0.83210784, 0.83210784, 0.83210784]],\n",
              "\n",
              "        ...,\n",
              "\n",
              "        [[0.44093138, 0.44093138, 0.44093138],\n",
              "         [0.44106925, 0.44106925, 0.44106925],\n",
              "         [0.44189644, 0.44189644, 0.44189644],\n",
              "         ...,\n",
              "         [0.55684745, 0.55684745, 0.55684745],\n",
              "         [0.55160844, 0.55160844, 0.55160844],\n",
              "         [0.5507353 , 0.5507353 , 0.5507353 ]],\n",
              "\n",
              "        [[0.43946078, 0.43946078, 0.43946078],\n",
              "         [0.43969056, 0.43969056, 0.43969056],\n",
              "         [0.44106925, 0.44106925, 0.44106925],\n",
              "         ...,\n",
              "         [0.5795496 , 0.5795496 , 0.5795496 ],\n",
              "         [0.5737592 , 0.5737592 , 0.5737592 ],\n",
              "         [0.57279414, 0.57279414, 0.57279414]],\n",
              "\n",
              "        [[0.4392157 , 0.4392157 , 0.4392157 ],\n",
              "         [0.43946078, 0.43946078, 0.43946078],\n",
              "         [0.44093138, 0.44093138, 0.44093138],\n",
              "         ...,\n",
              "         [0.5833333 , 0.5833333 , 0.5833333 ],\n",
              "         [0.577451  , 0.577451  , 0.577451  ],\n",
              "         [0.5764706 , 0.5764706 , 0.5764706 ]]]], dtype=float32)>"
            ]
          },
          "metadata": {},
          "execution_count": 41
        }
      ]
    },
    {
      "cell_type": "code",
      "source": [
        "scaled = element[0]/255"
      ],
      "metadata": {
        "id": "pc7Q3WnwoJE_"
      },
      "execution_count": 29,
      "outputs": []
    },
    {
      "cell_type": "code",
      "source": [
        "max_value = tf.reduce_max(scaled)  # Use tf.reduce_max to find the maximum value\n",
        "print(max_value)"
      ],
      "metadata": {
        "colab": {
          "base_uri": "https://localhost:8080/"
        },
        "id": "bn-RxZ84oPpt",
        "outputId": "e303d69b-2168-4ee6-f505-aefb7953e642"
      },
      "execution_count": 30,
      "outputs": [
        {
          "output_type": "stream",
          "name": "stdout",
          "text": [
            "tf.Tensor(0.003921569, shape=(), dtype=float32)\n"
          ]
        }
      ]
    },
    {
      "cell_type": "code",
      "source": [
        "for images, labels in train_data.take(1):\n",
        "  plt.matshow(images[0])\n",
        "  plt.show()"
      ],
      "metadata": {
        "colab": {
          "base_uri": "https://localhost:8080/",
          "height": 437
        },
        "id": "EDBarlOqhkFs",
        "outputId": "f8d6d9b5-1ab1-40ed-82c8-7f83f15ac6d9"
      },
      "execution_count": 42,
      "outputs": [
        {
          "output_type": "display_data",
          "data": {
            "text/plain": [
              "<Figure size 480x480 with 1 Axes>"
            ],
            "image/png": "[encoded data removed]"
          },
          "metadata": {}
        }
      ]
    },
    {
      "cell_type": "code",
      "source": [
        "history = model.fit(train_data,\n",
        "                    validation_data=val_data,\n",
        "                    batch_size=32,\n",
        "                    epochs=20,\n",
        "                    callbacks=[tensorboard_callback]\n",
        "                    )\n"
      ],
      "metadata": {
        "colab": {
          "base_uri": "https://localhost:8080/"
        },
        "id": "ZylX0EZfZFBq",
        "outputId": "97f19675-da28-49d1-e91e-9e9a55594885"
      },
      "execution_count": 54,
      "outputs": [
        {
          "output_type": "stream",
          "name": "stdout",
          "text": [
            "Epoch 1/20\n",
            "\u001b[1m413/413\u001b[0m \u001b[32m━━━━━━━━━━━━━━━━━━━━\u001b[0m\u001b[37m\u001b[0m \u001b[1m86s\u001b[0m 208ms/step - accuracy: 0.8626 - loss: 0.3276 - val_accuracy: 0.5596 - val_loss: 2.5009\n",
            "Epoch 2/20\n",
            "\u001b[1m413/413\u001b[0m \u001b[32m━━━━━━━━━━━━━━━━━━━━\u001b[0m\u001b[37m\u001b[0m \u001b[1m84s\u001b[0m 204ms/step - accuracy: 0.8648 - loss: 0.3337 - val_accuracy: 0.5659 - val_loss: 2.7661\n",
            "Epoch 3/20\n",
            "\u001b[1m413/413\u001b[0m \u001b[32m━━━━━━━━━━━━━━━━━━━━\u001b[0m\u001b[37m\u001b[0m \u001b[1m86s\u001b[0m 210ms/step - accuracy: 0.8696 - loss: 0.3180 - val_accuracy: 0.5649 - val_loss: 2.3570\n",
            "Epoch 4/20\n",
            "\u001b[1m413/413\u001b[0m \u001b[32m━━━━━━━━━━━━━━━━━━━━\u001b[0m\u001b[37m\u001b[0m \u001b[1m85s\u001b[0m 206ms/step - accuracy: 0.8684 - loss: 0.3247 - val_accuracy: 0.5617 - val_loss: 2.3643\n",
            "Epoch 5/20\n",
            "\u001b[1m413/413\u001b[0m \u001b[32m━━━━━━━━━━━━━━━━━━━━\u001b[0m\u001b[37m\u001b[0m \u001b[1m122s\u001b[0m 295ms/step - accuracy: 0.8778 - loss: 0.2991 - val_accuracy: 0.5665 - val_loss: 2.6927\n",
            "Epoch 6/20\n",
            "\u001b[1m413/413\u001b[0m \u001b[32m━━━━━━━━━━━━━━━━━━━━\u001b[0m\u001b[37m\u001b[0m \u001b[1m86s\u001b[0m 209ms/step - accuracy: 0.8808 - loss: 0.2803 - val_accuracy: 0.5633 - val_loss: 2.5423\n",
            "Epoch 7/20\n",
            "\u001b[1m413/413\u001b[0m \u001b[32m━━━━━━━━━━━━━━━━━━━━\u001b[0m\u001b[37m\u001b[0m \u001b[1m92s\u001b[0m 224ms/step - accuracy: 0.8778 - loss: 0.2901 - val_accuracy: 0.5559 - val_loss: 2.5940\n",
            "Epoch 8/20\n",
            "\u001b[1m413/413\u001b[0m \u001b[32m━━━━━━━━━━━━━━━━━━━━\u001b[0m\u001b[37m\u001b[0m \u001b[1m90s\u001b[0m 218ms/step - accuracy: 0.8764 - loss: 0.2973 - val_accuracy: 0.5710 - val_loss: 2.6680\n",
            "Epoch 9/20\n",
            "\u001b[1m413/413\u001b[0m \u001b[32m━━━━━━━━━━━━━━━━━━━━\u001b[0m\u001b[37m\u001b[0m \u001b[1m138s\u001b[0m 208ms/step - accuracy: 0.8820 - loss: 0.2912 - val_accuracy: 0.5678 - val_loss: 2.7192\n",
            "Epoch 10/20\n",
            "\u001b[1m413/413\u001b[0m \u001b[32m━━━━━━━━━━━━━━━━━━━━\u001b[0m\u001b[37m\u001b[0m \u001b[1m122s\u001b[0m 295ms/step - accuracy: 0.8979 - loss: 0.2550 - val_accuracy: 0.5575 - val_loss: 2.9937\n",
            "Epoch 11/20\n",
            "\u001b[1m413/413\u001b[0m \u001b[32m━━━━━━━━━━━━━━━━━━━━\u001b[0m\u001b[37m\u001b[0m \u001b[1m86s\u001b[0m 208ms/step - accuracy: 0.8896 - loss: 0.2619 - val_accuracy: 0.5678 - val_loss: 2.8740\n",
            "Epoch 12/20\n",
            "\u001b[1m413/413\u001b[0m \u001b[32m━━━━━━━━━━━━━━━━━━━━\u001b[0m\u001b[37m\u001b[0m \u001b[1m85s\u001b[0m 206ms/step - accuracy: 0.8980 - loss: 0.2479 - val_accuracy: 0.5638 - val_loss: 3.2375\n",
            "Epoch 13/20\n",
            "\u001b[1m413/413\u001b[0m \u001b[32m━━━━━━━━━━━━━━━━━━━━\u001b[0m\u001b[37m\u001b[0m \u001b[1m86s\u001b[0m 208ms/step - accuracy: 0.8946 - loss: 0.2539 - val_accuracy: 0.5689 - val_loss: 3.1337\n",
            "Epoch 14/20\n",
            "\u001b[1m413/413\u001b[0m \u001b[32m━━━━━━━━━━━━━━━━━━━━\u001b[0m\u001b[37m\u001b[0m \u001b[1m142s\u001b[0m 208ms/step - accuracy: 0.9034 - loss: 0.2404 - val_accuracy: 0.5636 - val_loss: 3.0558\n",
            "Epoch 15/20\n",
            "\u001b[1m413/413\u001b[0m \u001b[32m━━━━━━━━━━━━━━━━━━━━\u001b[0m\u001b[37m\u001b[0m \u001b[1m87s\u001b[0m 210ms/step - accuracy: 0.8959 - loss: 0.2483 - val_accuracy: 0.5699 - val_loss: 3.2531\n",
            "Epoch 16/20\n",
            "\u001b[1m413/413\u001b[0m \u001b[32m━━━━━━━━━━━━━━━━━━━━\u001b[0m\u001b[37m\u001b[0m \u001b[1m86s\u001b[0m 209ms/step - accuracy: 0.9039 - loss: 0.2494 - val_accuracy: 0.5704 - val_loss: 2.9761\n",
            "Epoch 17/20\n",
            "\u001b[1m413/413\u001b[0m \u001b[32m━━━━━━━━━━━━━━━━━━━━\u001b[0m\u001b[37m\u001b[0m \u001b[1m84s\u001b[0m 203ms/step - accuracy: 0.8975 - loss: 0.2423 - val_accuracy: 0.5665 - val_loss: 3.0978\n",
            "Epoch 18/20\n",
            "\u001b[1m413/413\u001b[0m \u001b[32m━━━━━━━━━━━━━━━━━━━━\u001b[0m\u001b[37m\u001b[0m \u001b[1m85s\u001b[0m 207ms/step - accuracy: 0.9057 - loss: 0.2356 - val_accuracy: 0.5569 - val_loss: 2.8665\n",
            "Epoch 19/20\n",
            "\u001b[1m413/413\u001b[0m \u001b[32m━━━━━━━━━━━━━━━━━━━━\u001b[0m\u001b[37m\u001b[0m \u001b[1m83s\u001b[0m 202ms/step - accuracy: 0.9054 - loss: 0.2285 - val_accuracy: 0.5612 - val_loss: 3.0092\n",
            "Epoch 20/20\n",
            "\u001b[1m413/413\u001b[0m \u001b[32m━━━━━━━━━━━━━━━━━━━━\u001b[0m\u001b[37m\u001b[0m \u001b[1m122s\u001b[0m 296ms/step - accuracy: 0.9072 - loss: 0.2369 - val_accuracy: 0.5683 - val_loss: 3.2367\n"
          ]
        }
      ]
    },
    {
      "cell_type": "code",
      "source": [
        "loss, accuracy = model.evaluate(test_data)\n",
        "print(f\"Test Accuracy: {accuracy:.2f}\")"
      ],
      "metadata": {
        "colab": {
          "base_uri": "https://localhost:8080/"
        },
        "id": "dc_GgML6C5PR",
        "outputId": "2710189e-db35-414b-d4eb-3bdbdf90a26e"
      },
      "execution_count": 55,
      "outputs": [
        {
          "output_type": "stream",
          "name": "stdout",
          "text": [
            "\u001b[1m59/59\u001b[0m \u001b[32m━━━━━━━━━━━━━━━━━━━━\u001b[0m\u001b[37m\u001b[0m \u001b[1m50s\u001b[0m 88ms/step - accuracy: 0.5353 - loss: 3.6487\n",
            "Test Accuracy: 0.54\n"
          ]
        }
      ]
    },
    {
      "cell_type": "code",
      "source": [
        "model.save('/content/drive/MyDrive/RESEARCH/models/skin_classifier_model.h5')"
      ],
      "metadata": {
        "colab": {
          "base_uri": "https://localhost:8080/"
        },
        "id": "F1YvjV5zDBAc",
        "outputId": "956300b0-5767-450a-d358-b94c8c49c51c"
      },
      "execution_count": 51,
      "outputs": [
        {
          "output_type": "stream",
          "name": "stderr",
          "text": [
            "WARNING:absl:You are saving your model as an HDF5 file via `model.save()` or `keras.saving.save_model(model)`. This file format is considered legacy. We recommend using instead the native Keras format, e.g. `model.save('my_model.keras')` or `keras.saving.save_model(model, 'my_model.keras')`. \n"
          ]
        }
      ]
    },
    {
      "cell_type": "code",
      "source": [
        "# Load an image for prediction\n",
        "from tensorflow.keras.utils import load_img, img_to_array\n",
        "\n",
        "img_path = '/content/drive/MyDrive/RESEARCH/dataset/RegionalDataset/MultiRegionFacialDataset/test/region-2/90_1_2_20170110183708997.jpg.chip.jpg'\n",
        "img = load_img(img_path, target_size=(128, 128))\n",
        "img_array = img_to_array(img) / 255.0\n",
        "img_array = np.expand_dims(img_array, axis=0)\n",
        "\n",
        "# Predict skin type\n",
        "predictions = model.predict(img_array)\n",
        "predicted_regions = np.argmax(predictions, axis=1)  # Get the index of the highest probability\n",
        "predicted_class = np.argmax(predictions)\n",
        "print(f\"Predicted Skin Type: {predicted_class}\")\n"
      ],
      "metadata": {
        "colab": {
          "base_uri": "https://localhost:8080/"
        },
        "id": "vu7hNdESDB_M",
        "outputId": "e2382841-19d8-468a-b4ad-09921f4cec8f"
      },
      "execution_count": 53,
      "outputs": [
        {
          "output_type": "stream",
          "name": "stdout",
          "text": [
            "\u001b[1m1/1\u001b[0m \u001b[32m━━━━━━━━━━━━━━━━━━━━\u001b[0m\u001b[37m\u001b[0m \u001b[1m0s\u001b[0m 18ms/step\n",
            "Predicted Skin Type: 1\n"
          ]
        }
      ]
    },
    {
      "cell_type": "code",
      "source": [
        "plt.plot(history.history['accuracy'], label='Training Accuracy')\n",
        "plt.plot(history.history['val_accuracy'], label='Validation Accuracy')\n",
        "plt.legend()\n",
        "plt.title('Training and Validation Accuracy')\n",
        "plt.show()"
      ],
      "metadata": {
        "id": "ABaW6DtPDF8I"
      },
      "execution_count": null,
      "outputs": []
    }
  ]
}